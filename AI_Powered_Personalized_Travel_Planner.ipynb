{
  "nbformat": 4,
  "nbformat_minor": 0,
  "metadata": {
    "colab": {
      "provenance": []
    },
    "kernelspec": {
      "name": "python3",
      "display_name": "Python 3"
    },
    "language_info": {
      "name": "python"
    }
  },
  "cells": [
    {
      "cell_type": "code",
      "source": [
        "from flask import Flask\n",
        "import openai"
      ],
      "metadata": {
        "id": "JHpAcKDYDa-G"
      },
      "execution_count": 6,
      "outputs": []
    },
    {
      "cell_type": "code",
      "source": [
        "import requests"
      ],
      "metadata": {
        "id": "iZokYtLJGSOz"
      },
      "execution_count": 7,
      "outputs": []
    },
    {
      "cell_type": "code",
      "source": [
        "app=Flask(__name__)"
      ],
      "metadata": {
        "id": "wBCij3HuGVm5"
      },
      "execution_count": 8,
      "outputs": []
    },
    {
      "cell_type": "code",
      "source": [
        "open_ai_api_key=\"\"\n",
        "SYSCANNER_API_KEY = \"your_skyscanner_api_key\"\n",
        "WEATHER_API_KEY = \"your_weather_api_key\"\n"
      ],
      "metadata": {
        "id": "MNRof8AVHaVY"
      },
      "execution_count": null,
      "outputs": []
    },
    {
      "cell_type": "code",
      "source": [
        "# Function to get places of interest\n",
        "def get_places(destination, place_type=\"tourist attractions\"):\n",
        "    url = f\"https://maps.googleapis.com/maps/api/place/textsearch/json?query={place_type}+in+{destination}&key={GOOGLE_PLACES_API_KEY}\"\n",
        "    response = requests.get(url)\n",
        "    data = response.json()\n",
        "    places = [place[\"name\"] for place in data.get(\"results\", [])[:5]]\n",
        "    return places"
      ],
      "metadata": {
        "id": "Y0HuT0AZH-yd"
      },
      "execution_count": 1,
      "outputs": []
    },
    {
      "cell_type": "code",
      "source": [
        "\n",
        "# Function to get flight details\n",
        "def get_flights(source, destination, date):\n",
        "    url = f\"https://partners.api.skyscanner.net/apiservices/browsequotes/v1.0/US/USD/en-US/{source}/{destination}/{date}\"\n",
        "    headers = {\"apikey\": SKYSCANNER_API_KEY}\n",
        "    response = requests.get(url, headers=headers)\n",
        "    return response.json()"
      ],
      "metadata": {
        "id": "Bv4IsFTelAjZ"
      },
      "execution_count": 2,
      "outputs": []
    },
    {
      "cell_type": "code",
      "source": [
        "# Function to get weather details\n",
        "def get_weather(destination):\n",
        "    url = f\"http://api.openweathermap.org/data/2.5/weather?q={destination}&appid={WEATHER_API_KEY}\"\n",
        "    response = requests.get(url)\n",
        "    data = response.json()\n",
        "    return f\"{data['weather'][0]['description']}, Temp: {round(data['main']['temp'] - 273.15, 2)}°C\"\n"
      ],
      "metadata": {
        "id": "piUkREkrlJWW"
      },
      "execution_count": 3,
      "outputs": []
    },
    {
      "cell_type": "code",
      "source": [
        "# AI-generated itinerary\n",
        "@app.route('/generate-itinerary', methods=['POST'])\n",
        "def generate_itinerary():\n",
        "    user_input = request.json\n",
        "    destination = user_input.get(\"destination\")\n",
        "    budget = user_input.get(\"budget\")\n",
        "    interests = user_input.get(\"interests\")\n",
        "\n",
        "    # Fetch additional data\n",
        "    places = get_places(destination)\n",
        "    weather = get_weather(destination)\n",
        "\n",
        "    # Generate AI itinerary\n",
        "    prompt = f\"\"\"\n",
        "    Create a 3-day travel itinerary for {destination}.\n",
        "    Budget: {budget}. Interests: {interests}.\n",
        "    Must include recommended places: {', '.join(places)}.\n",
        "    Current weather: {weather}.\n",
        "    \"\"\"\n",
        "\n",
        "    response = openai.ChatCompletion.create(\n",
        "        model=\"gpt-4\",\n",
        "        messages=[{\"role\": \"system\", \"content\": prompt}]\n",
        "    )\n",
        "\n",
        "    itinerary = response.choices[0].message[\"content\"]\n",
        "\n",
        "    return jsonify({\"destination\": destination, \"weather\": weather, \"itinerary\": itinerary})"
      ],
      "metadata": {
        "id": "m-7rxuNHlMrx"
      },
      "execution_count": 9,
      "outputs": []
    },
    {
      "cell_type": "code",
      "source": [
        "if __name__ == '__main__':\n",
        "    app.run(debug=True)"
      ],
      "metadata": {
        "id": "8_QZYKjAlTeJ"
      },
      "execution_count": null,
      "outputs": []
    }
  ]
}